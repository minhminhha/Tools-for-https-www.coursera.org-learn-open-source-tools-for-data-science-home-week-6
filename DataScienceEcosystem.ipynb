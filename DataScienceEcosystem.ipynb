{
 "cells": [
  {
   "cell_type": "markdown",
   "id": "57c72bc4-ebf3-47aa-86f0-94cca6ef527d",
   "metadata": {},
   "source": [
    "Display the following text using h1 heading levels."
   ]
  },
  {
   "cell_type": "markdown",
   "id": "23136981-10d3-4c85-86ec-497a0e59123b",
   "metadata": {},
   "source": [
    "Data Science Tools and Ecosystem"
   ]
  },
  {
   "cell_type": "markdown",
   "id": "6ee1d6dc-8111-498a-b683-be993f080a4f",
   "metadata": {},
   "source": [
    "In this notebook, Data Science Tools and Ecosystem are summarized."
   ]
  },
  {
   "cell_type": "markdown",
   "id": "4c5c713a-b4ce-4e8a-8af8-a20c682996ed",
   "metadata": {},
   "source": [
    "Some of the popular languages that Data Scientists use are:\n",
    "1.Python\n",
    "2.R\n",
    "3.C++"
   ]
  },
  {
   "cell_type": "markdown",
   "id": "ee3560f1-9b8b-4a82-b045-59c259c74c67",
   "metadata": {
    "tags": []
   },
   "source": [
    "Some of the commonly used libraries used by Data Scientists include:"
   ]
  },
  {
   "cell_type": "markdown",
   "id": "9885c16d-2a02-4bd0-aec3-a74c7c969593",
   "metadata": {},
   "source": [
    "1. Pandas\n",
    "2. NumPy\n",
    "3. Scikit-Learn\n",
    "4.Matloblib\n",
    "5 Keras"
   ]
  },
  {
   "cell_type": "markdown",
   "id": "eeeba5dd-071f-4ba3-9f32-391d2f06bf8c",
   "metadata": {},
   "source": [
    "Data Science Tools"
   ]
  },
  {
   "cell_type": "markdown",
   "id": "82c9f200-7468-4c3f-85c5-65bd8cf31329",
   "metadata": {},
   "source": [
    "Data Science Tools\n",
    "\n",
    "SAS\n",
    "\n",
    "Apache Hadoop\n",
    "\n",
    "TensorFlow\n"
   ]
  },
  {
   "cell_type": "markdown",
   "id": "dc47d967-d3d0-440c-83a9-c71ac36fbe52",
   "metadata": {},
   "source": [
    "Display the following text using h3 heading levels\n",
    "\n",
    "Below are a few examples of evaluating arithmetic expressions in Python."
   ]
  },
  {
   "cell_type": "code",
   "execution_count": 2,
   "id": "c0a10343-49bc-4eb5-b2d5-4aa19ea5e953",
   "metadata": {
    "tags": []
   },
   "outputs": [
    {
     "data": {
      "text/plain": [
       "17"
      ]
     },
     "execution_count": 2,
     "metadata": {},
     "output_type": "execute_result"
    }
   ],
   "source": [
    "#This a simple arithmetic expression to mutiply then add integers\n",
    "(3*4)+5"
   ]
  },
  {
   "cell_type": "code",
   "execution_count": 3,
   "id": "3c1a2469-6b26-436b-b293-70ebacfb76c0",
   "metadata": {
    "tags": []
   },
   "outputs": [
    {
     "data": {
      "text/plain": [
       "3.3333333333333335"
      ]
     },
     "execution_count": 3,
     "metadata": {},
     "output_type": "execute_result"
    }
   ],
   "source": [
    "# This will convert 200 minutes to hours by diving by 60\n",
    "200/60"
   ]
  },
  {
   "cell_type": "code",
   "execution_count": null,
   "id": "e9f8c897-8db7-4f8c-b058-872e5b62c087",
   "metadata": {},
   "outputs": [],
   "source": []
  }
 ],
 "metadata": {
  "kernelspec": {
   "display_name": "Python",
   "language": "python",
   "name": "conda-env-python-py"
  },
  "language_info": {
   "codemirror_mode": {
    "name": "ipython",
    "version": 3
   },
   "file_extension": ".py",
   "mimetype": "text/x-python",
   "name": "python",
   "nbconvert_exporter": "python",
   "pygments_lexer": "ipython3",
   "version": "3.7.12"
  }
 },
 "nbformat": 4,
 "nbformat_minor": 5
}
